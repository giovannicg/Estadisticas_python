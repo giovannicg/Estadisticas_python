{
  "nbformat": 4,
  "nbformat_minor": 0,
  "metadata": {
    "colab": {
      "provenance": [],
      "mount_file_id": "1wulQgzVtq2LP4M64Vq-PMk4tD0n5iyrt",
      "authorship_tag": "ABX9TyPCXe62CslKfyAsL0mwDXoe",
      "include_colab_link": true
    },
    "kernelspec": {
      "name": "python3",
      "display_name": "Python 3"
    },
    "language_info": {
      "name": "python"
    }
  },
  "cells": [
    {
      "cell_type": "markdown",
      "metadata": {
        "id": "view-in-github",
        "colab_type": "text"
      },
      "source": [
        "<a href=\"https://colab.research.google.com/github/giovannicg/Estadisticas_python/blob/main/Tarea_Estadistica.ipynb\" target=\"_parent\"><img src=\"https://colab.research.google.com/assets/colab-badge.svg\" alt=\"Open In Colab\"/></a>"
      ]
    },
    {
      "cell_type": "markdown",
      "source": [
        "# Ejercicio 1\n",
        "\n",
        "La prueba de tolerancia a la glucosa, también conocida como\n",
        "«examen de tolerancia oral a la glucosa», mide la respuesta del\n",
        "cuerpo al azúcar (glucosa). Esta prueba se puede usar como prueba\n",
        "de detección para la diabetes de tipo 2. En el departamento de\n",
        "investigación de un hospital se está realizando un estudio para\n",
        "conocer si la tolerancia a la glucosa en pacientes sanos tiende a\n",
        "decrecer a medida que la edad de la persona aumenta, es decir\n",
        "tarda más tiempo en desaparecer en nuestro organismo conforme\n",
        "envejecemos. Para obtener las conclusiones del estudio se\n",
        "suministra una dosis de glucosa, en forma de un preparado via oral,\n",
        "a dos muestras de pacientes sanos escogidos al azar, jovenes( edad\n",
        "menor de 30) y otros adultos ( edad superior a 30). Consideraremos\n",
        "estas muestras independientes .\n",
        "\n",
        "El test consistió en realizar la medición de glucosa en sangre en el\n",
        "momento de la toma ( nivel basal ) de 100 gramos de glucosa y a los 60\n",
        "minutos de la toma. Los resultados se muestran en el Excel. En la primera\n",
        "columna se representa con 1 a los pacientes cuyo rango de edad es menor\n",
        "que 30 ( jóvenes) y con 2 a los pacientes cuyo rango de edad es mayor\n",
        "que 30, en la segunda columna la concentración en sangre en el momento\n",
        "de la toma ( nivel basal, en mg/Dl) y en la tercera columna la\n",
        "concentración de glucosa pasada una hora de la ingesta de la pastilla en\n",
        "mg/Dl"
      ],
      "metadata": {
        "id": "L21J8kFrlJQw"
      }
    },
    {
      "cell_type": "code",
      "source": [
        "from google.colab import drive\n",
        "drive.mount('/content/drive')"
      ],
      "metadata": {
        "colab": {
          "base_uri": "https://localhost:8080/"
        },
        "id": "cGQUzLM4VP-k",
        "outputId": "bfb62c07-b524-4230-83e7-170b5033d8a8"
      },
      "execution_count": null,
      "outputs": [
        {
          "output_type": "stream",
          "name": "stdout",
          "text": [
            "Drive already mounted at /content/drive; to attempt to forcibly remount, call drive.mount(\"/content/drive\", force_remount=True).\n"
          ]
        }
      ]
    },
    {
      "cell_type": "markdown",
      "source": [
        "## a) Obtener, usando algún programa estadístico, las medidas de centralización y dispersión para cada uno de los dos grupos de control para el nivel de glucosa basal, especificando para cada uno de los casos si la media es o no representativa."
      ],
      "metadata": {
        "id": "57Dt6vunlYop"
      }
    },
    {
      "cell_type": "code",
      "execution_count": null,
      "metadata": {
        "id": "mdrCgNC_k3az"
      },
      "outputs": [],
      "source": [
        "import numpy as np\n",
        "import pandas as pd\n",
        "import matplotlib.pyplot as plt\n",
        "%matplotlib inline"
      ]
    },
    {
      "cell_type": "code",
      "source": [
        "df = pd.read_excel('drive/MyDrive/ARCHIVODATOSEVALUACION24.xlsx')\n",
        "df"
      ],
      "metadata": {
        "colab": {
          "base_uri": "https://localhost:8080/",
          "height": 424
        },
        "id": "1CsnRyFul0g_",
        "outputId": "5dc33bdd-e720-4945-bbc0-2f64827f7e59"
      },
      "execution_count": null,
      "outputs": [
        {
          "output_type": "execute_result",
          "data": {
            "text/plain": [
              "    Grupo de control  Nivel glucosa basal  Nivel glucosa 60 min\n",
              "0                  1                   90                   136\n",
              "1                  1                   82                   151\n",
              "2                  1                   80                   148\n",
              "3                  1                   75                   138\n",
              "4                  1                   74                   141\n",
              "..               ...                  ...                   ...\n",
              "60                 2                   95                   169\n",
              "61                 2                   99                   172\n",
              "62                 2                   98                   173\n",
              "63                 2                   84                   188\n",
              "64                 2                   92                   160\n",
              "\n",
              "[65 rows x 3 columns]"
            ],
            "text/html": [
              "\n",
              "  <div id=\"df-c34908b7-c5ea-4f5c-ba46-bb4ae5c1e050\" class=\"colab-df-container\">\n",
              "    <div>\n",
              "<style scoped>\n",
              "    .dataframe tbody tr th:only-of-type {\n",
              "        vertical-align: middle;\n",
              "    }\n",
              "\n",
              "    .dataframe tbody tr th {\n",
              "        vertical-align: top;\n",
              "    }\n",
              "\n",
              "    .dataframe thead th {\n",
              "        text-align: right;\n",
              "    }\n",
              "</style>\n",
              "<table border=\"1\" class=\"dataframe\">\n",
              "  <thead>\n",
              "    <tr style=\"text-align: right;\">\n",
              "      <th></th>\n",
              "      <th>Grupo de control</th>\n",
              "      <th>Nivel glucosa basal</th>\n",
              "      <th>Nivel glucosa 60 min</th>\n",
              "    </tr>\n",
              "  </thead>\n",
              "  <tbody>\n",
              "    <tr>\n",
              "      <th>0</th>\n",
              "      <td>1</td>\n",
              "      <td>90</td>\n",
              "      <td>136</td>\n",
              "    </tr>\n",
              "    <tr>\n",
              "      <th>1</th>\n",
              "      <td>1</td>\n",
              "      <td>82</td>\n",
              "      <td>151</td>\n",
              "    </tr>\n",
              "    <tr>\n",
              "      <th>2</th>\n",
              "      <td>1</td>\n",
              "      <td>80</td>\n",
              "      <td>148</td>\n",
              "    </tr>\n",
              "    <tr>\n",
              "      <th>3</th>\n",
              "      <td>1</td>\n",
              "      <td>75</td>\n",
              "      <td>138</td>\n",
              "    </tr>\n",
              "    <tr>\n",
              "      <th>4</th>\n",
              "      <td>1</td>\n",
              "      <td>74</td>\n",
              "      <td>141</td>\n",
              "    </tr>\n",
              "    <tr>\n",
              "      <th>...</th>\n",
              "      <td>...</td>\n",
              "      <td>...</td>\n",
              "      <td>...</td>\n",
              "    </tr>\n",
              "    <tr>\n",
              "      <th>60</th>\n",
              "      <td>2</td>\n",
              "      <td>95</td>\n",
              "      <td>169</td>\n",
              "    </tr>\n",
              "    <tr>\n",
              "      <th>61</th>\n",
              "      <td>2</td>\n",
              "      <td>99</td>\n",
              "      <td>172</td>\n",
              "    </tr>\n",
              "    <tr>\n",
              "      <th>62</th>\n",
              "      <td>2</td>\n",
              "      <td>98</td>\n",
              "      <td>173</td>\n",
              "    </tr>\n",
              "    <tr>\n",
              "      <th>63</th>\n",
              "      <td>2</td>\n",
              "      <td>84</td>\n",
              "      <td>188</td>\n",
              "    </tr>\n",
              "    <tr>\n",
              "      <th>64</th>\n",
              "      <td>2</td>\n",
              "      <td>92</td>\n",
              "      <td>160</td>\n",
              "    </tr>\n",
              "  </tbody>\n",
              "</table>\n",
              "<p>65 rows × 3 columns</p>\n",
              "</div>\n",
              "    <div class=\"colab-df-buttons\">\n",
              "\n",
              "  <div class=\"colab-df-container\">\n",
              "    <button class=\"colab-df-convert\" onclick=\"convertToInteractive('df-c34908b7-c5ea-4f5c-ba46-bb4ae5c1e050')\"\n",
              "            title=\"Convert this dataframe to an interactive table.\"\n",
              "            style=\"display:none;\">\n",
              "\n",
              "  <svg xmlns=\"http://www.w3.org/2000/svg\" height=\"24px\" viewBox=\"0 -960 960 960\">\n",
              "    <path d=\"M120-120v-720h720v720H120Zm60-500h600v-160H180v160Zm220 220h160v-160H400v160Zm0 220h160v-160H400v160ZM180-400h160v-160H180v160Zm440 0h160v-160H620v160ZM180-180h160v-160H180v160Zm440 0h160v-160H620v160Z\"/>\n",
              "  </svg>\n",
              "    </button>\n",
              "\n",
              "  <style>\n",
              "    .colab-df-container {\n",
              "      display:flex;\n",
              "      gap: 12px;\n",
              "    }\n",
              "\n",
              "    .colab-df-convert {\n",
              "      background-color: #E8F0FE;\n",
              "      border: none;\n",
              "      border-radius: 50%;\n",
              "      cursor: pointer;\n",
              "      display: none;\n",
              "      fill: #1967D2;\n",
              "      height: 32px;\n",
              "      padding: 0 0 0 0;\n",
              "      width: 32px;\n",
              "    }\n",
              "\n",
              "    .colab-df-convert:hover {\n",
              "      background-color: #E2EBFA;\n",
              "      box-shadow: 0px 1px 2px rgba(60, 64, 67, 0.3), 0px 1px 3px 1px rgba(60, 64, 67, 0.15);\n",
              "      fill: #174EA6;\n",
              "    }\n",
              "\n",
              "    .colab-df-buttons div {\n",
              "      margin-bottom: 4px;\n",
              "    }\n",
              "\n",
              "    [theme=dark] .colab-df-convert {\n",
              "      background-color: #3B4455;\n",
              "      fill: #D2E3FC;\n",
              "    }\n",
              "\n",
              "    [theme=dark] .colab-df-convert:hover {\n",
              "      background-color: #434B5C;\n",
              "      box-shadow: 0px 1px 3px 1px rgba(0, 0, 0, 0.15);\n",
              "      filter: drop-shadow(0px 1px 2px rgba(0, 0, 0, 0.3));\n",
              "      fill: #FFFFFF;\n",
              "    }\n",
              "  </style>\n",
              "\n",
              "    <script>\n",
              "      const buttonEl =\n",
              "        document.querySelector('#df-c34908b7-c5ea-4f5c-ba46-bb4ae5c1e050 button.colab-df-convert');\n",
              "      buttonEl.style.display =\n",
              "        google.colab.kernel.accessAllowed ? 'block' : 'none';\n",
              "\n",
              "      async function convertToInteractive(key) {\n",
              "        const element = document.querySelector('#df-c34908b7-c5ea-4f5c-ba46-bb4ae5c1e050');\n",
              "        const dataTable =\n",
              "          await google.colab.kernel.invokeFunction('convertToInteractive',\n",
              "                                                    [key], {});\n",
              "        if (!dataTable) return;\n",
              "\n",
              "        const docLinkHtml = 'Like what you see? Visit the ' +\n",
              "          '<a target=\"_blank\" href=https://colab.research.google.com/notebooks/data_table.ipynb>data table notebook</a>'\n",
              "          + ' to learn more about interactive tables.';\n",
              "        element.innerHTML = '';\n",
              "        dataTable['output_type'] = 'display_data';\n",
              "        await google.colab.output.renderOutput(dataTable, element);\n",
              "        const docLink = document.createElement('div');\n",
              "        docLink.innerHTML = docLinkHtml;\n",
              "        element.appendChild(docLink);\n",
              "      }\n",
              "    </script>\n",
              "  </div>\n",
              "\n",
              "\n",
              "<div id=\"df-9491f86a-50d1-4c0c-bf95-622be5e6237a\">\n",
              "  <button class=\"colab-df-quickchart\" onclick=\"quickchart('df-9491f86a-50d1-4c0c-bf95-622be5e6237a')\"\n",
              "            title=\"Suggest charts\"\n",
              "            style=\"display:none;\">\n",
              "\n",
              "<svg xmlns=\"http://www.w3.org/2000/svg\" height=\"24px\"viewBox=\"0 0 24 24\"\n",
              "     width=\"24px\">\n",
              "    <g>\n",
              "        <path d=\"M19 3H5c-1.1 0-2 .9-2 2v14c0 1.1.9 2 2 2h14c1.1 0 2-.9 2-2V5c0-1.1-.9-2-2-2zM9 17H7v-7h2v7zm4 0h-2V7h2v10zm4 0h-2v-4h2v4z\"/>\n",
              "    </g>\n",
              "</svg>\n",
              "  </button>\n",
              "\n",
              "<style>\n",
              "  .colab-df-quickchart {\n",
              "      --bg-color: #E8F0FE;\n",
              "      --fill-color: #1967D2;\n",
              "      --hover-bg-color: #E2EBFA;\n",
              "      --hover-fill-color: #174EA6;\n",
              "      --disabled-fill-color: #AAA;\n",
              "      --disabled-bg-color: #DDD;\n",
              "  }\n",
              "\n",
              "  [theme=dark] .colab-df-quickchart {\n",
              "      --bg-color: #3B4455;\n",
              "      --fill-color: #D2E3FC;\n",
              "      --hover-bg-color: #434B5C;\n",
              "      --hover-fill-color: #FFFFFF;\n",
              "      --disabled-bg-color: #3B4455;\n",
              "      --disabled-fill-color: #666;\n",
              "  }\n",
              "\n",
              "  .colab-df-quickchart {\n",
              "    background-color: var(--bg-color);\n",
              "    border: none;\n",
              "    border-radius: 50%;\n",
              "    cursor: pointer;\n",
              "    display: none;\n",
              "    fill: var(--fill-color);\n",
              "    height: 32px;\n",
              "    padding: 0;\n",
              "    width: 32px;\n",
              "  }\n",
              "\n",
              "  .colab-df-quickchart:hover {\n",
              "    background-color: var(--hover-bg-color);\n",
              "    box-shadow: 0 1px 2px rgba(60, 64, 67, 0.3), 0 1px 3px 1px rgba(60, 64, 67, 0.15);\n",
              "    fill: var(--button-hover-fill-color);\n",
              "  }\n",
              "\n",
              "  .colab-df-quickchart-complete:disabled,\n",
              "  .colab-df-quickchart-complete:disabled:hover {\n",
              "    background-color: var(--disabled-bg-color);\n",
              "    fill: var(--disabled-fill-color);\n",
              "    box-shadow: none;\n",
              "  }\n",
              "\n",
              "  .colab-df-spinner {\n",
              "    border: 2px solid var(--fill-color);\n",
              "    border-color: transparent;\n",
              "    border-bottom-color: var(--fill-color);\n",
              "    animation:\n",
              "      spin 1s steps(1) infinite;\n",
              "  }\n",
              "\n",
              "  @keyframes spin {\n",
              "    0% {\n",
              "      border-color: transparent;\n",
              "      border-bottom-color: var(--fill-color);\n",
              "      border-left-color: var(--fill-color);\n",
              "    }\n",
              "    20% {\n",
              "      border-color: transparent;\n",
              "      border-left-color: var(--fill-color);\n",
              "      border-top-color: var(--fill-color);\n",
              "    }\n",
              "    30% {\n",
              "      border-color: transparent;\n",
              "      border-left-color: var(--fill-color);\n",
              "      border-top-color: var(--fill-color);\n",
              "      border-right-color: var(--fill-color);\n",
              "    }\n",
              "    40% {\n",
              "      border-color: transparent;\n",
              "      border-right-color: var(--fill-color);\n",
              "      border-top-color: var(--fill-color);\n",
              "    }\n",
              "    60% {\n",
              "      border-color: transparent;\n",
              "      border-right-color: var(--fill-color);\n",
              "    }\n",
              "    80% {\n",
              "      border-color: transparent;\n",
              "      border-right-color: var(--fill-color);\n",
              "      border-bottom-color: var(--fill-color);\n",
              "    }\n",
              "    90% {\n",
              "      border-color: transparent;\n",
              "      border-bottom-color: var(--fill-color);\n",
              "    }\n",
              "  }\n",
              "</style>\n",
              "\n",
              "  <script>\n",
              "    async function quickchart(key) {\n",
              "      const quickchartButtonEl =\n",
              "        document.querySelector('#' + key + ' button');\n",
              "      quickchartButtonEl.disabled = true;  // To prevent multiple clicks.\n",
              "      quickchartButtonEl.classList.add('colab-df-spinner');\n",
              "      try {\n",
              "        const charts = await google.colab.kernel.invokeFunction(\n",
              "            'suggestCharts', [key], {});\n",
              "      } catch (error) {\n",
              "        console.error('Error during call to suggestCharts:', error);\n",
              "      }\n",
              "      quickchartButtonEl.classList.remove('colab-df-spinner');\n",
              "      quickchartButtonEl.classList.add('colab-df-quickchart-complete');\n",
              "    }\n",
              "    (() => {\n",
              "      let quickchartButtonEl =\n",
              "        document.querySelector('#df-9491f86a-50d1-4c0c-bf95-622be5e6237a button');\n",
              "      quickchartButtonEl.style.display =\n",
              "        google.colab.kernel.accessAllowed ? 'block' : 'none';\n",
              "    })();\n",
              "  </script>\n",
              "</div>\n",
              "\n",
              "  <div id=\"id_e97f07b9-14bd-43a2-9e44-641f083ce7ad\">\n",
              "    <style>\n",
              "      .colab-df-generate {\n",
              "        background-color: #E8F0FE;\n",
              "        border: none;\n",
              "        border-radius: 50%;\n",
              "        cursor: pointer;\n",
              "        display: none;\n",
              "        fill: #1967D2;\n",
              "        height: 32px;\n",
              "        padding: 0 0 0 0;\n",
              "        width: 32px;\n",
              "      }\n",
              "\n",
              "      .colab-df-generate:hover {\n",
              "        background-color: #E2EBFA;\n",
              "        box-shadow: 0px 1px 2px rgba(60, 64, 67, 0.3), 0px 1px 3px 1px rgba(60, 64, 67, 0.15);\n",
              "        fill: #174EA6;\n",
              "      }\n",
              "\n",
              "      [theme=dark] .colab-df-generate {\n",
              "        background-color: #3B4455;\n",
              "        fill: #D2E3FC;\n",
              "      }\n",
              "\n",
              "      [theme=dark] .colab-df-generate:hover {\n",
              "        background-color: #434B5C;\n",
              "        box-shadow: 0px 1px 3px 1px rgba(0, 0, 0, 0.15);\n",
              "        filter: drop-shadow(0px 1px 2px rgba(0, 0, 0, 0.3));\n",
              "        fill: #FFFFFF;\n",
              "      }\n",
              "    </style>\n",
              "    <button class=\"colab-df-generate\" onclick=\"generateWithVariable('df')\"\n",
              "            title=\"Generate code using this dataframe.\"\n",
              "            style=\"display:none;\">\n",
              "\n",
              "  <svg xmlns=\"http://www.w3.org/2000/svg\" height=\"24px\"viewBox=\"0 0 24 24\"\n",
              "       width=\"24px\">\n",
              "    <path d=\"M7,19H8.4L18.45,9,17,7.55,7,17.6ZM5,21V16.75L18.45,3.32a2,2,0,0,1,2.83,0l1.4,1.43a1.91,1.91,0,0,1,.58,1.4,1.91,1.91,0,0,1-.58,1.4L9.25,21ZM18.45,9,17,7.55Zm-12,3A5.31,5.31,0,0,0,4.9,8.1,5.31,5.31,0,0,0,1,6.5,5.31,5.31,0,0,0,4.9,4.9,5.31,5.31,0,0,0,6.5,1,5.31,5.31,0,0,0,8.1,4.9,5.31,5.31,0,0,0,12,6.5,5.46,5.46,0,0,0,6.5,12Z\"/>\n",
              "  </svg>\n",
              "    </button>\n",
              "    <script>\n",
              "      (() => {\n",
              "      const buttonEl =\n",
              "        document.querySelector('#id_e97f07b9-14bd-43a2-9e44-641f083ce7ad button.colab-df-generate');\n",
              "      buttonEl.style.display =\n",
              "        google.colab.kernel.accessAllowed ? 'block' : 'none';\n",
              "\n",
              "      buttonEl.onclick = () => {\n",
              "        google.colab.notebook.generateWithVariable('df');\n",
              "      }\n",
              "      })();\n",
              "    </script>\n",
              "  </div>\n",
              "\n",
              "    </div>\n",
              "  </div>\n"
            ],
            "application/vnd.google.colaboratory.intrinsic+json": {
              "type": "dataframe",
              "variable_name": "df",
              "summary": "{\n  \"name\": \"df\",\n  \"rows\": 65,\n  \"fields\": [\n    {\n      \"column\": \"Grupo de control\",\n      \"properties\": {\n        \"dtype\": \"number\",\n        \"std\": 0,\n        \"min\": 1,\n        \"max\": 2,\n        \"num_unique_values\": 2,\n        \"samples\": [\n          2,\n          1\n        ],\n        \"semantic_type\": \"\",\n        \"description\": \"\"\n      }\n    },\n    {\n      \"column\": \"Nivel glucosa basal\",\n      \"properties\": {\n        \"dtype\": \"number\",\n        \"std\": 9,\n        \"min\": 65,\n        \"max\": 106,\n        \"num_unique_values\": 31,\n        \"samples\": [\n          98,\n          104\n        ],\n        \"semantic_type\": \"\",\n        \"description\": \"\"\n      }\n    },\n    {\n      \"column\": \"Nivel glucosa 60 min\",\n      \"properties\": {\n        \"dtype\": \"number\",\n        \"std\": 16,\n        \"min\": 131,\n        \"max\": 198,\n        \"num_unique_values\": 43,\n        \"samples\": [\n          169,\n          145\n        ],\n        \"semantic_type\": \"\",\n        \"description\": \"\"\n      }\n    }\n  ]\n}"
            }
          },
          "metadata": {},
          "execution_count": 3
        }
      ]
    },
    {
      "cell_type": "code",
      "source": [
        "#divido el dataset en df_1 para el grupo 1 y df_2 para el grupo 2\n",
        "\n",
        "df_1 = df[df['Grupo de control'] == 1]\n",
        "\n",
        "df_2 = df[df['Grupo de control'] == 2]"
      ],
      "metadata": {
        "id": "kAukv5ECmJUB"
      },
      "execution_count": null,
      "outputs": []
    },
    {
      "cell_type": "code",
      "source": [
        "def estadisticos_cont(num):\n",
        "    #Calculamos describe\n",
        "    estadisticos = num.describe().T\n",
        "    #Añadimos la mediana\n",
        "    estadisticos['median'] = num.median()\n",
        "    #Reordenamos para que la mediana esté al lado de la media\n",
        "    estadisticos = estadisticos.iloc[:,[0,1,8,2,3,4,5,6,7]]\n",
        "    #Lo devolvemos\n",
        "    return(estadisticos)"
      ],
      "metadata": {
        "id": "WbzdUh02pe90"
      },
      "execution_count": null,
      "outputs": []
    },
    {
      "cell_type": "code",
      "source": [
        "# Llamamos a la funcion para el dataset del grupo 1\n",
        "print(\"Grupo de Control 1\")\n",
        "estadisticos_cont(df_1.select_dtypes('number'))\n"
      ],
      "metadata": {
        "colab": {
          "base_uri": "https://localhost:8080/",
          "height": 161
        },
        "id": "dnZFPWo4pmR5",
        "outputId": "ddcdce4c-603b-476d-a541-b37132e0ab19"
      },
      "execution_count": null,
      "outputs": [
        {
          "output_type": "stream",
          "name": "stdout",
          "text": [
            "Grupo de Control 1\n"
          ]
        },
        {
          "output_type": "execute_result",
          "data": {
            "text/plain": [
              "                      count        mean  median       std    min    25%  \\\n",
              "Grupo de control       35.0    1.000000     1.0  0.000000    1.0    1.0   \n",
              "Nivel glucosa basal    35.0   85.028571    82.0  9.379219   65.0   78.5   \n",
              "Nivel glucosa 60 min   35.0  147.942857   148.0  9.548461  131.0  141.0   \n",
              "\n",
              "                        50%    75%    max  \n",
              "Grupo de control        1.0    1.0    1.0  \n",
              "Nivel glucosa basal    82.0   90.5  104.0  \n",
              "Nivel glucosa 60 min  148.0  153.0  172.0  "
            ],
            "text/html": [
              "\n",
              "  <div id=\"df-a9aa9175-27a5-48de-9f92-34c0e92dde5c\" class=\"colab-df-container\">\n",
              "    <div>\n",
              "<style scoped>\n",
              "    .dataframe tbody tr th:only-of-type {\n",
              "        vertical-align: middle;\n",
              "    }\n",
              "\n",
              "    .dataframe tbody tr th {\n",
              "        vertical-align: top;\n",
              "    }\n",
              "\n",
              "    .dataframe thead th {\n",
              "        text-align: right;\n",
              "    }\n",
              "</style>\n",
              "<table border=\"1\" class=\"dataframe\">\n",
              "  <thead>\n",
              "    <tr style=\"text-align: right;\">\n",
              "      <th></th>\n",
              "      <th>count</th>\n",
              "      <th>mean</th>\n",
              "      <th>median</th>\n",
              "      <th>std</th>\n",
              "      <th>min</th>\n",
              "      <th>25%</th>\n",
              "      <th>50%</th>\n",
              "      <th>75%</th>\n",
              "      <th>max</th>\n",
              "    </tr>\n",
              "  </thead>\n",
              "  <tbody>\n",
              "    <tr>\n",
              "      <th>Grupo de control</th>\n",
              "      <td>35.0</td>\n",
              "      <td>1.000000</td>\n",
              "      <td>1.0</td>\n",
              "      <td>0.000000</td>\n",
              "      <td>1.0</td>\n",
              "      <td>1.0</td>\n",
              "      <td>1.0</td>\n",
              "      <td>1.0</td>\n",
              "      <td>1.0</td>\n",
              "    </tr>\n",
              "    <tr>\n",
              "      <th>Nivel glucosa basal</th>\n",
              "      <td>35.0</td>\n",
              "      <td>85.028571</td>\n",
              "      <td>82.0</td>\n",
              "      <td>9.379219</td>\n",
              "      <td>65.0</td>\n",
              "      <td>78.5</td>\n",
              "      <td>82.0</td>\n",
              "      <td>90.5</td>\n",
              "      <td>104.0</td>\n",
              "    </tr>\n",
              "    <tr>\n",
              "      <th>Nivel glucosa 60 min</th>\n",
              "      <td>35.0</td>\n",
              "      <td>147.942857</td>\n",
              "      <td>148.0</td>\n",
              "      <td>9.548461</td>\n",
              "      <td>131.0</td>\n",
              "      <td>141.0</td>\n",
              "      <td>148.0</td>\n",
              "      <td>153.0</td>\n",
              "      <td>172.0</td>\n",
              "    </tr>\n",
              "  </tbody>\n",
              "</table>\n",
              "</div>\n",
              "    <div class=\"colab-df-buttons\">\n",
              "\n",
              "  <div class=\"colab-df-container\">\n",
              "    <button class=\"colab-df-convert\" onclick=\"convertToInteractive('df-a9aa9175-27a5-48de-9f92-34c0e92dde5c')\"\n",
              "            title=\"Convert this dataframe to an interactive table.\"\n",
              "            style=\"display:none;\">\n",
              "\n",
              "  <svg xmlns=\"http://www.w3.org/2000/svg\" height=\"24px\" viewBox=\"0 -960 960 960\">\n",
              "    <path d=\"M120-120v-720h720v720H120Zm60-500h600v-160H180v160Zm220 220h160v-160H400v160Zm0 220h160v-160H400v160ZM180-400h160v-160H180v160Zm440 0h160v-160H620v160ZM180-180h160v-160H180v160Zm440 0h160v-160H620v160Z\"/>\n",
              "  </svg>\n",
              "    </button>\n",
              "\n",
              "  <style>\n",
              "    .colab-df-container {\n",
              "      display:flex;\n",
              "      gap: 12px;\n",
              "    }\n",
              "\n",
              "    .colab-df-convert {\n",
              "      background-color: #E8F0FE;\n",
              "      border: none;\n",
              "      border-radius: 50%;\n",
              "      cursor: pointer;\n",
              "      display: none;\n",
              "      fill: #1967D2;\n",
              "      height: 32px;\n",
              "      padding: 0 0 0 0;\n",
              "      width: 32px;\n",
              "    }\n",
              "\n",
              "    .colab-df-convert:hover {\n",
              "      background-color: #E2EBFA;\n",
              "      box-shadow: 0px 1px 2px rgba(60, 64, 67, 0.3), 0px 1px 3px 1px rgba(60, 64, 67, 0.15);\n",
              "      fill: #174EA6;\n",
              "    }\n",
              "\n",
              "    .colab-df-buttons div {\n",
              "      margin-bottom: 4px;\n",
              "    }\n",
              "\n",
              "    [theme=dark] .colab-df-convert {\n",
              "      background-color: #3B4455;\n",
              "      fill: #D2E3FC;\n",
              "    }\n",
              "\n",
              "    [theme=dark] .colab-df-convert:hover {\n",
              "      background-color: #434B5C;\n",
              "      box-shadow: 0px 1px 3px 1px rgba(0, 0, 0, 0.15);\n",
              "      filter: drop-shadow(0px 1px 2px rgba(0, 0, 0, 0.3));\n",
              "      fill: #FFFFFF;\n",
              "    }\n",
              "  </style>\n",
              "\n",
              "    <script>\n",
              "      const buttonEl =\n",
              "        document.querySelector('#df-a9aa9175-27a5-48de-9f92-34c0e92dde5c button.colab-df-convert');\n",
              "      buttonEl.style.display =\n",
              "        google.colab.kernel.accessAllowed ? 'block' : 'none';\n",
              "\n",
              "      async function convertToInteractive(key) {\n",
              "        const element = document.querySelector('#df-a9aa9175-27a5-48de-9f92-34c0e92dde5c');\n",
              "        const dataTable =\n",
              "          await google.colab.kernel.invokeFunction('convertToInteractive',\n",
              "                                                    [key], {});\n",
              "        if (!dataTable) return;\n",
              "\n",
              "        const docLinkHtml = 'Like what you see? Visit the ' +\n",
              "          '<a target=\"_blank\" href=https://colab.research.google.com/notebooks/data_table.ipynb>data table notebook</a>'\n",
              "          + ' to learn more about interactive tables.';\n",
              "        element.innerHTML = '';\n",
              "        dataTable['output_type'] = 'display_data';\n",
              "        await google.colab.output.renderOutput(dataTable, element);\n",
              "        const docLink = document.createElement('div');\n",
              "        docLink.innerHTML = docLinkHtml;\n",
              "        element.appendChild(docLink);\n",
              "      }\n",
              "    </script>\n",
              "  </div>\n",
              "\n",
              "\n",
              "<div id=\"df-64131e5d-668e-4482-b99f-d824cf9c367a\">\n",
              "  <button class=\"colab-df-quickchart\" onclick=\"quickchart('df-64131e5d-668e-4482-b99f-d824cf9c367a')\"\n",
              "            title=\"Suggest charts\"\n",
              "            style=\"display:none;\">\n",
              "\n",
              "<svg xmlns=\"http://www.w3.org/2000/svg\" height=\"24px\"viewBox=\"0 0 24 24\"\n",
              "     width=\"24px\">\n",
              "    <g>\n",
              "        <path d=\"M19 3H5c-1.1 0-2 .9-2 2v14c0 1.1.9 2 2 2h14c1.1 0 2-.9 2-2V5c0-1.1-.9-2-2-2zM9 17H7v-7h2v7zm4 0h-2V7h2v10zm4 0h-2v-4h2v4z\"/>\n",
              "    </g>\n",
              "</svg>\n",
              "  </button>\n",
              "\n",
              "<style>\n",
              "  .colab-df-quickchart {\n",
              "      --bg-color: #E8F0FE;\n",
              "      --fill-color: #1967D2;\n",
              "      --hover-bg-color: #E2EBFA;\n",
              "      --hover-fill-color: #174EA6;\n",
              "      --disabled-fill-color: #AAA;\n",
              "      --disabled-bg-color: #DDD;\n",
              "  }\n",
              "\n",
              "  [theme=dark] .colab-df-quickchart {\n",
              "      --bg-color: #3B4455;\n",
              "      --fill-color: #D2E3FC;\n",
              "      --hover-bg-color: #434B5C;\n",
              "      --hover-fill-color: #FFFFFF;\n",
              "      --disabled-bg-color: #3B4455;\n",
              "      --disabled-fill-color: #666;\n",
              "  }\n",
              "\n",
              "  .colab-df-quickchart {\n",
              "    background-color: var(--bg-color);\n",
              "    border: none;\n",
              "    border-radius: 50%;\n",
              "    cursor: pointer;\n",
              "    display: none;\n",
              "    fill: var(--fill-color);\n",
              "    height: 32px;\n",
              "    padding: 0;\n",
              "    width: 32px;\n",
              "  }\n",
              "\n",
              "  .colab-df-quickchart:hover {\n",
              "    background-color: var(--hover-bg-color);\n",
              "    box-shadow: 0 1px 2px rgba(60, 64, 67, 0.3), 0 1px 3px 1px rgba(60, 64, 67, 0.15);\n",
              "    fill: var(--button-hover-fill-color);\n",
              "  }\n",
              "\n",
              "  .colab-df-quickchart-complete:disabled,\n",
              "  .colab-df-quickchart-complete:disabled:hover {\n",
              "    background-color: var(--disabled-bg-color);\n",
              "    fill: var(--disabled-fill-color);\n",
              "    box-shadow: none;\n",
              "  }\n",
              "\n",
              "  .colab-df-spinner {\n",
              "    border: 2px solid var(--fill-color);\n",
              "    border-color: transparent;\n",
              "    border-bottom-color: var(--fill-color);\n",
              "    animation:\n",
              "      spin 1s steps(1) infinite;\n",
              "  }\n",
              "\n",
              "  @keyframes spin {\n",
              "    0% {\n",
              "      border-color: transparent;\n",
              "      border-bottom-color: var(--fill-color);\n",
              "      border-left-color: var(--fill-color);\n",
              "    }\n",
              "    20% {\n",
              "      border-color: transparent;\n",
              "      border-left-color: var(--fill-color);\n",
              "      border-top-color: var(--fill-color);\n",
              "    }\n",
              "    30% {\n",
              "      border-color: transparent;\n",
              "      border-left-color: var(--fill-color);\n",
              "      border-top-color: var(--fill-color);\n",
              "      border-right-color: var(--fill-color);\n",
              "    }\n",
              "    40% {\n",
              "      border-color: transparent;\n",
              "      border-right-color: var(--fill-color);\n",
              "      border-top-color: var(--fill-color);\n",
              "    }\n",
              "    60% {\n",
              "      border-color: transparent;\n",
              "      border-right-color: var(--fill-color);\n",
              "    }\n",
              "    80% {\n",
              "      border-color: transparent;\n",
              "      border-right-color: var(--fill-color);\n",
              "      border-bottom-color: var(--fill-color);\n",
              "    }\n",
              "    90% {\n",
              "      border-color: transparent;\n",
              "      border-bottom-color: var(--fill-color);\n",
              "    }\n",
              "  }\n",
              "</style>\n",
              "\n",
              "  <script>\n",
              "    async function quickchart(key) {\n",
              "      const quickchartButtonEl =\n",
              "        document.querySelector('#' + key + ' button');\n",
              "      quickchartButtonEl.disabled = true;  // To prevent multiple clicks.\n",
              "      quickchartButtonEl.classList.add('colab-df-spinner');\n",
              "      try {\n",
              "        const charts = await google.colab.kernel.invokeFunction(\n",
              "            'suggestCharts', [key], {});\n",
              "      } catch (error) {\n",
              "        console.error('Error during call to suggestCharts:', error);\n",
              "      }\n",
              "      quickchartButtonEl.classList.remove('colab-df-spinner');\n",
              "      quickchartButtonEl.classList.add('colab-df-quickchart-complete');\n",
              "    }\n",
              "    (() => {\n",
              "      let quickchartButtonEl =\n",
              "        document.querySelector('#df-64131e5d-668e-4482-b99f-d824cf9c367a button');\n",
              "      quickchartButtonEl.style.display =\n",
              "        google.colab.kernel.accessAllowed ? 'block' : 'none';\n",
              "    })();\n",
              "  </script>\n",
              "</div>\n",
              "\n",
              "    </div>\n",
              "  </div>\n"
            ],
            "application/vnd.google.colaboratory.intrinsic+json": {
              "type": "dataframe",
              "summary": "{\n  \"name\": \"estadisticos_cont(df_1\",\n  \"rows\": 3,\n  \"fields\": [\n    {\n      \"column\": \"count\",\n      \"properties\": {\n        \"dtype\": \"number\",\n        \"std\": 0.0,\n        \"min\": 35.0,\n        \"max\": 35.0,\n        \"num_unique_values\": 1,\n        \"samples\": [\n          35.0\n        ],\n        \"semantic_type\": \"\",\n        \"description\": \"\"\n      }\n    },\n    {\n      \"column\": \"mean\",\n      \"properties\": {\n        \"dtype\": \"number\",\n        \"std\": 73.72382182688243,\n        \"min\": 1.0,\n        \"max\": 147.94285714285715,\n        \"num_unique_values\": 3,\n        \"samples\": [\n          1.0\n        ],\n        \"semantic_type\": \"\",\n        \"description\": \"\"\n      }\n    },\n    {\n      \"column\": \"median\",\n      \"properties\": {\n        \"dtype\": \"number\",\n        \"std\": 73.62744053679987,\n        \"min\": 1.0,\n        \"max\": 148.0,\n        \"num_unique_values\": 3,\n        \"samples\": [\n          1.0\n        ],\n        \"semantic_type\": \"\",\n        \"description\": \"\"\n      }\n    },\n    {\n      \"column\": \"std\",\n      \"properties\": {\n        \"dtype\": \"number\",\n        \"std\": 5.464605811487394,\n        \"min\": 0.0,\n        \"max\": 9.548461092956156,\n        \"num_unique_values\": 3,\n        \"samples\": [\n          0.0\n        ],\n        \"semantic_type\": \"\",\n        \"description\": \"\"\n      }\n    },\n    {\n      \"column\": \"min\",\n      \"properties\": {\n        \"dtype\": \"number\",\n        \"std\": 65.00256405199208,\n        \"min\": 1.0,\n        \"max\": 131.0,\n        \"num_unique_values\": 3,\n        \"samples\": [\n          1.0\n        ],\n        \"semantic_type\": \"\",\n        \"description\": \"\"\n      }\n    },\n    {\n      \"column\": \"25%\",\n      \"properties\": {\n        \"dtype\": \"number\",\n        \"std\": 70.13380069552768,\n        \"min\": 1.0,\n        \"max\": 141.0,\n        \"num_unique_values\": 3,\n        \"samples\": [\n          1.0\n        ],\n        \"semantic_type\": \"\",\n        \"description\": \"\"\n      }\n    },\n    {\n      \"column\": \"50%\",\n      \"properties\": {\n        \"dtype\": \"number\",\n        \"std\": 73.62744053679987,\n        \"min\": 1.0,\n        \"max\": 148.0,\n        \"num_unique_values\": 3,\n        \"samples\": [\n          1.0\n        ],\n        \"semantic_type\": \"\",\n        \"description\": \"\"\n      }\n    },\n    {\n      \"column\": \"75%\",\n      \"properties\": {\n        \"dtype\": \"number\",\n        \"std\": 76.39862564208862,\n        \"min\": 1.0,\n        \"max\": 153.0,\n        \"num_unique_values\": 3,\n        \"samples\": [\n          1.0\n        ],\n        \"semantic_type\": \"\",\n        \"description\": \"\"\n      }\n    },\n    {\n      \"column\": \"max\",\n      \"properties\": {\n        \"dtype\": \"number\",\n        \"std\": 86.09490886999843,\n        \"min\": 1.0,\n        \"max\": 172.0,\n        \"num_unique_values\": 3,\n        \"samples\": [\n          1.0\n        ],\n        \"semantic_type\": \"\",\n        \"description\": \"\"\n      }\n    }\n  ]\n}"
            }
          },
          "metadata": {},
          "execution_count": 21
        }
      ]
    },
    {
      "cell_type": "code",
      "source": [
        "# Llamamos a la funcion para el dataset del grupo 2\n",
        "print(\"Grupo de Control 1\")\n",
        "estadisticos_cont(df_2.select_dtypes('number'))"
      ],
      "metadata": {
        "colab": {
          "base_uri": "https://localhost:8080/",
          "height": 161
        },
        "id": "r0A1wdsLoTTe",
        "outputId": "3b59169f-72e1-4c70-82d1-cf08b910233a"
      },
      "execution_count": null,
      "outputs": [
        {
          "output_type": "stream",
          "name": "stdout",
          "text": [
            "Grupo de Control 1\n"
          ]
        },
        {
          "output_type": "execute_result",
          "data": {
            "text/plain": [
              "                      count        mean  median        std    min     25%  \\\n",
              "Grupo de control       30.0    2.000000     2.0   0.000000    2.0    2.00   \n",
              "Nivel glucosa basal    30.0   90.833333    90.5   8.461203   77.0   84.50   \n",
              "Nivel glucosa 60 min   30.0  173.266667   172.0  12.309047  152.0  161.75   \n",
              "\n",
              "                        50%     75%    max  \n",
              "Grupo de control        2.0    2.00    2.0  \n",
              "Nivel glucosa basal    90.5   97.75  106.0  \n",
              "Nivel glucosa 60 min  172.0  181.75  198.0  "
            ],
            "text/html": [
              "\n",
              "  <div id=\"df-b25eada2-b296-44de-8a4b-dd13ad82c87a\" class=\"colab-df-container\">\n",
              "    <div>\n",
              "<style scoped>\n",
              "    .dataframe tbody tr th:only-of-type {\n",
              "        vertical-align: middle;\n",
              "    }\n",
              "\n",
              "    .dataframe tbody tr th {\n",
              "        vertical-align: top;\n",
              "    }\n",
              "\n",
              "    .dataframe thead th {\n",
              "        text-align: right;\n",
              "    }\n",
              "</style>\n",
              "<table border=\"1\" class=\"dataframe\">\n",
              "  <thead>\n",
              "    <tr style=\"text-align: right;\">\n",
              "      <th></th>\n",
              "      <th>count</th>\n",
              "      <th>mean</th>\n",
              "      <th>median</th>\n",
              "      <th>std</th>\n",
              "      <th>min</th>\n",
              "      <th>25%</th>\n",
              "      <th>50%</th>\n",
              "      <th>75%</th>\n",
              "      <th>max</th>\n",
              "    </tr>\n",
              "  </thead>\n",
              "  <tbody>\n",
              "    <tr>\n",
              "      <th>Grupo de control</th>\n",
              "      <td>30.0</td>\n",
              "      <td>2.000000</td>\n",
              "      <td>2.0</td>\n",
              "      <td>0.000000</td>\n",
              "      <td>2.0</td>\n",
              "      <td>2.00</td>\n",
              "      <td>2.0</td>\n",
              "      <td>2.00</td>\n",
              "      <td>2.0</td>\n",
              "    </tr>\n",
              "    <tr>\n",
              "      <th>Nivel glucosa basal</th>\n",
              "      <td>30.0</td>\n",
              "      <td>90.833333</td>\n",
              "      <td>90.5</td>\n",
              "      <td>8.461203</td>\n",
              "      <td>77.0</td>\n",
              "      <td>84.50</td>\n",
              "      <td>90.5</td>\n",
              "      <td>97.75</td>\n",
              "      <td>106.0</td>\n",
              "    </tr>\n",
              "    <tr>\n",
              "      <th>Nivel glucosa 60 min</th>\n",
              "      <td>30.0</td>\n",
              "      <td>173.266667</td>\n",
              "      <td>172.0</td>\n",
              "      <td>12.309047</td>\n",
              "      <td>152.0</td>\n",
              "      <td>161.75</td>\n",
              "      <td>172.0</td>\n",
              "      <td>181.75</td>\n",
              "      <td>198.0</td>\n",
              "    </tr>\n",
              "  </tbody>\n",
              "</table>\n",
              "</div>\n",
              "    <div class=\"colab-df-buttons\">\n",
              "\n",
              "  <div class=\"colab-df-container\">\n",
              "    <button class=\"colab-df-convert\" onclick=\"convertToInteractive('df-b25eada2-b296-44de-8a4b-dd13ad82c87a')\"\n",
              "            title=\"Convert this dataframe to an interactive table.\"\n",
              "            style=\"display:none;\">\n",
              "\n",
              "  <svg xmlns=\"http://www.w3.org/2000/svg\" height=\"24px\" viewBox=\"0 -960 960 960\">\n",
              "    <path d=\"M120-120v-720h720v720H120Zm60-500h600v-160H180v160Zm220 220h160v-160H400v160Zm0 220h160v-160H400v160ZM180-400h160v-160H180v160Zm440 0h160v-160H620v160ZM180-180h160v-160H180v160Zm440 0h160v-160H620v160Z\"/>\n",
              "  </svg>\n",
              "    </button>\n",
              "\n",
              "  <style>\n",
              "    .colab-df-container {\n",
              "      display:flex;\n",
              "      gap: 12px;\n",
              "    }\n",
              "\n",
              "    .colab-df-convert {\n",
              "      background-color: #E8F0FE;\n",
              "      border: none;\n",
              "      border-radius: 50%;\n",
              "      cursor: pointer;\n",
              "      display: none;\n",
              "      fill: #1967D2;\n",
              "      height: 32px;\n",
              "      padding: 0 0 0 0;\n",
              "      width: 32px;\n",
              "    }\n",
              "\n",
              "    .colab-df-convert:hover {\n",
              "      background-color: #E2EBFA;\n",
              "      box-shadow: 0px 1px 2px rgba(60, 64, 67, 0.3), 0px 1px 3px 1px rgba(60, 64, 67, 0.15);\n",
              "      fill: #174EA6;\n",
              "    }\n",
              "\n",
              "    .colab-df-buttons div {\n",
              "      margin-bottom: 4px;\n",
              "    }\n",
              "\n",
              "    [theme=dark] .colab-df-convert {\n",
              "      background-color: #3B4455;\n",
              "      fill: #D2E3FC;\n",
              "    }\n",
              "\n",
              "    [theme=dark] .colab-df-convert:hover {\n",
              "      background-color: #434B5C;\n",
              "      box-shadow: 0px 1px 3px 1px rgba(0, 0, 0, 0.15);\n",
              "      filter: drop-shadow(0px 1px 2px rgba(0, 0, 0, 0.3));\n",
              "      fill: #FFFFFF;\n",
              "    }\n",
              "  </style>\n",
              "\n",
              "    <script>\n",
              "      const buttonEl =\n",
              "        document.querySelector('#df-b25eada2-b296-44de-8a4b-dd13ad82c87a button.colab-df-convert');\n",
              "      buttonEl.style.display =\n",
              "        google.colab.kernel.accessAllowed ? 'block' : 'none';\n",
              "\n",
              "      async function convertToInteractive(key) {\n",
              "        const element = document.querySelector('#df-b25eada2-b296-44de-8a4b-dd13ad82c87a');\n",
              "        const dataTable =\n",
              "          await google.colab.kernel.invokeFunction('convertToInteractive',\n",
              "                                                    [key], {});\n",
              "        if (!dataTable) return;\n",
              "\n",
              "        const docLinkHtml = 'Like what you see? Visit the ' +\n",
              "          '<a target=\"_blank\" href=https://colab.research.google.com/notebooks/data_table.ipynb>data table notebook</a>'\n",
              "          + ' to learn more about interactive tables.';\n",
              "        element.innerHTML = '';\n",
              "        dataTable['output_type'] = 'display_data';\n",
              "        await google.colab.output.renderOutput(dataTable, element);\n",
              "        const docLink = document.createElement('div');\n",
              "        docLink.innerHTML = docLinkHtml;\n",
              "        element.appendChild(docLink);\n",
              "      }\n",
              "    </script>\n",
              "  </div>\n",
              "\n",
              "\n",
              "<div id=\"df-3bf9589f-c918-446e-93c5-5f79052490b4\">\n",
              "  <button class=\"colab-df-quickchart\" onclick=\"quickchart('df-3bf9589f-c918-446e-93c5-5f79052490b4')\"\n",
              "            title=\"Suggest charts\"\n",
              "            style=\"display:none;\">\n",
              "\n",
              "<svg xmlns=\"http://www.w3.org/2000/svg\" height=\"24px\"viewBox=\"0 0 24 24\"\n",
              "     width=\"24px\">\n",
              "    <g>\n",
              "        <path d=\"M19 3H5c-1.1 0-2 .9-2 2v14c0 1.1.9 2 2 2h14c1.1 0 2-.9 2-2V5c0-1.1-.9-2-2-2zM9 17H7v-7h2v7zm4 0h-2V7h2v10zm4 0h-2v-4h2v4z\"/>\n",
              "    </g>\n",
              "</svg>\n",
              "  </button>\n",
              "\n",
              "<style>\n",
              "  .colab-df-quickchart {\n",
              "      --bg-color: #E8F0FE;\n",
              "      --fill-color: #1967D2;\n",
              "      --hover-bg-color: #E2EBFA;\n",
              "      --hover-fill-color: #174EA6;\n",
              "      --disabled-fill-color: #AAA;\n",
              "      --disabled-bg-color: #DDD;\n",
              "  }\n",
              "\n",
              "  [theme=dark] .colab-df-quickchart {\n",
              "      --bg-color: #3B4455;\n",
              "      --fill-color: #D2E3FC;\n",
              "      --hover-bg-color: #434B5C;\n",
              "      --hover-fill-color: #FFFFFF;\n",
              "      --disabled-bg-color: #3B4455;\n",
              "      --disabled-fill-color: #666;\n",
              "  }\n",
              "\n",
              "  .colab-df-quickchart {\n",
              "    background-color: var(--bg-color);\n",
              "    border: none;\n",
              "    border-radius: 50%;\n",
              "    cursor: pointer;\n",
              "    display: none;\n",
              "    fill: var(--fill-color);\n",
              "    height: 32px;\n",
              "    padding: 0;\n",
              "    width: 32px;\n",
              "  }\n",
              "\n",
              "  .colab-df-quickchart:hover {\n",
              "    background-color: var(--hover-bg-color);\n",
              "    box-shadow: 0 1px 2px rgba(60, 64, 67, 0.3), 0 1px 3px 1px rgba(60, 64, 67, 0.15);\n",
              "    fill: var(--button-hover-fill-color);\n",
              "  }\n",
              "\n",
              "  .colab-df-quickchart-complete:disabled,\n",
              "  .colab-df-quickchart-complete:disabled:hover {\n",
              "    background-color: var(--disabled-bg-color);\n",
              "    fill: var(--disabled-fill-color);\n",
              "    box-shadow: none;\n",
              "  }\n",
              "\n",
              "  .colab-df-spinner {\n",
              "    border: 2px solid var(--fill-color);\n",
              "    border-color: transparent;\n",
              "    border-bottom-color: var(--fill-color);\n",
              "    animation:\n",
              "      spin 1s steps(1) infinite;\n",
              "  }\n",
              "\n",
              "  @keyframes spin {\n",
              "    0% {\n",
              "      border-color: transparent;\n",
              "      border-bottom-color: var(--fill-color);\n",
              "      border-left-color: var(--fill-color);\n",
              "    }\n",
              "    20% {\n",
              "      border-color: transparent;\n",
              "      border-left-color: var(--fill-color);\n",
              "      border-top-color: var(--fill-color);\n",
              "    }\n",
              "    30% {\n",
              "      border-color: transparent;\n",
              "      border-left-color: var(--fill-color);\n",
              "      border-top-color: var(--fill-color);\n",
              "      border-right-color: var(--fill-color);\n",
              "    }\n",
              "    40% {\n",
              "      border-color: transparent;\n",
              "      border-right-color: var(--fill-color);\n",
              "      border-top-color: var(--fill-color);\n",
              "    }\n",
              "    60% {\n",
              "      border-color: transparent;\n",
              "      border-right-color: var(--fill-color);\n",
              "    }\n",
              "    80% {\n",
              "      border-color: transparent;\n",
              "      border-right-color: var(--fill-color);\n",
              "      border-bottom-color: var(--fill-color);\n",
              "    }\n",
              "    90% {\n",
              "      border-color: transparent;\n",
              "      border-bottom-color: var(--fill-color);\n",
              "    }\n",
              "  }\n",
              "</style>\n",
              "\n",
              "  <script>\n",
              "    async function quickchart(key) {\n",
              "      const quickchartButtonEl =\n",
              "        document.querySelector('#' + key + ' button');\n",
              "      quickchartButtonEl.disabled = true;  // To prevent multiple clicks.\n",
              "      quickchartButtonEl.classList.add('colab-df-spinner');\n",
              "      try {\n",
              "        const charts = await google.colab.kernel.invokeFunction(\n",
              "            'suggestCharts', [key], {});\n",
              "      } catch (error) {\n",
              "        console.error('Error during call to suggestCharts:', error);\n",
              "      }\n",
              "      quickchartButtonEl.classList.remove('colab-df-spinner');\n",
              "      quickchartButtonEl.classList.add('colab-df-quickchart-complete');\n",
              "    }\n",
              "    (() => {\n",
              "      let quickchartButtonEl =\n",
              "        document.querySelector('#df-3bf9589f-c918-446e-93c5-5f79052490b4 button');\n",
              "      quickchartButtonEl.style.display =\n",
              "        google.colab.kernel.accessAllowed ? 'block' : 'none';\n",
              "    })();\n",
              "  </script>\n",
              "</div>\n",
              "\n",
              "    </div>\n",
              "  </div>\n"
            ],
            "application/vnd.google.colaboratory.intrinsic+json": {
              "type": "dataframe",
              "summary": "{\n  \"name\": \"estadisticos_cont(df_2\",\n  \"rows\": 3,\n  \"fields\": [\n    {\n      \"column\": \"count\",\n      \"properties\": {\n        \"dtype\": \"number\",\n        \"std\": 0.0,\n        \"min\": 30.0,\n        \"max\": 30.0,\n        \"num_unique_values\": 1,\n        \"samples\": [\n          30.0\n        ],\n        \"semantic_type\": \"\",\n        \"description\": \"\"\n      }\n    },\n    {\n      \"column\": \"mean\",\n      \"properties\": {\n        \"dtype\": \"number\",\n        \"std\": 85.65326094849578,\n        \"min\": 2.0,\n        \"max\": 173.26666666666668,\n        \"num_unique_values\": 3,\n        \"samples\": [\n          2.0\n        ],\n        \"semantic_type\": \"\",\n        \"description\": \"\"\n      }\n    },\n    {\n      \"column\": \"median\",\n      \"properties\": {\n        \"dtype\": \"number\",\n        \"std\": 85.02401621502794,\n        \"min\": 2.0,\n        \"max\": 172.0,\n        \"num_unique_values\": 3,\n        \"samples\": [\n          2.0\n        ],\n        \"semantic_type\": \"\",\n        \"description\": \"\"\n      }\n    },\n    {\n      \"column\": \"std\",\n      \"properties\": {\n        \"dtype\": \"number\",\n        \"std\": 6.296963605616177,\n        \"min\": 0.0,\n        \"max\": 12.309047228691622,\n        \"num_unique_values\": 3,\n        \"samples\": [\n          0.0\n        ],\n        \"semantic_type\": \"\",\n        \"description\": \"\"\n      }\n    },\n    {\n      \"column\": \"min\",\n      \"properties\": {\n        \"dtype\": \"number\",\n        \"std\": 75.0,\n        \"min\": 2.0,\n        \"max\": 152.0,\n        \"num_unique_values\": 3,\n        \"samples\": [\n          2.0\n        ],\n        \"semantic_type\": \"\",\n        \"description\": \"\"\n      }\n    },\n    {\n      \"column\": \"25%\",\n      \"properties\": {\n        \"dtype\": \"number\",\n        \"std\": 79.88937664045201,\n        \"min\": 2.0,\n        \"max\": 161.75,\n        \"num_unique_values\": 3,\n        \"samples\": [\n          2.0\n        ],\n        \"semantic_type\": \"\",\n        \"description\": \"\"\n      }\n    },\n    {\n      \"column\": \"50%\",\n      \"properties\": {\n        \"dtype\": \"number\",\n        \"std\": 85.02401621502794,\n        \"min\": 2.0,\n        \"max\": 172.0,\n        \"num_unique_values\": 3,\n        \"samples\": [\n          2.0\n        ],\n        \"semantic_type\": \"\",\n        \"description\": \"\"\n      }\n    },\n    {\n      \"column\": \"75%\",\n      \"properties\": {\n        \"dtype\": \"number\",\n        \"std\": 89.93898394652528,\n        \"min\": 2.0,\n        \"max\": 181.75,\n        \"num_unique_values\": 3,\n        \"samples\": [\n          2.0\n        ],\n        \"semantic_type\": \"\",\n        \"description\": \"\"\n      }\n    },\n    {\n      \"column\": \"max\",\n      \"properties\": {\n        \"dtype\": \"number\",\n        \"std\": 98.0612053770501,\n        \"min\": 2.0,\n        \"max\": 198.0,\n        \"num_unique_values\": 3,\n        \"samples\": [\n          2.0\n        ],\n        \"semantic_type\": \"\",\n        \"description\": \"\"\n      }\n    }\n  ]\n}"
            }
          },
          "metadata": {},
          "execution_count": 22
        }
      ]
    },
    {
      "cell_type": "code",
      "source": [
        "#Calculamos media y desviacion estandar para el data set del grupo 1\n",
        "media_1 = df_1['Nivel glucosa basal'].mean()\n",
        "desviacion_estandar_1 = df_1['Nivel glucosa basal'].std()\n",
        "\n",
        "# Calculamos el coeficiente de variacion para el data set del grupo 1\n",
        "coeficiente_variacion_1 = (desviacion_estandar_1 / media_1)\n",
        "print('CV_1: ',coeficiente_variacion_1)"
      ],
      "metadata": {
        "colab": {
          "base_uri": "https://localhost:8080/"
        },
        "id": "uQRP06NrqZQC",
        "outputId": "0c34bedd-1284-4da7-bfab-3db0a21dac18"
      },
      "execution_count": null,
      "outputs": [
        {
          "output_type": "stream",
          "name": "stdout",
          "text": [
            "CV_1:  0.1103066743457002\n"
          ]
        }
      ]
    },
    {
      "cell_type": "code",
      "source": [
        "#Calculamos media y desviacion estandar para el data set del grupo 2\n",
        "media_2 = df_2['Nivel glucosa basal'].mean()\n",
        "desviacion_estandar_2= df_2['Nivel glucosa basal'].std()\n",
        "\n",
        "# Calculamos el coeficiente de variacion para el data set del grupo 2\n",
        "coeficiente_variacion_2 = (desviacion_estandar_2 / media_2)\n",
        "print('CV_2: ',coeficiente_variacion_2)"
      ],
      "metadata": {
        "colab": {
          "base_uri": "https://localhost:8080/"
        },
        "id": "2gj2JJ2fpDLq",
        "outputId": "6dd19e08-3b2f-4770-fe5b-43bef134c4fc"
      },
      "execution_count": null,
      "outputs": [
        {
          "output_type": "stream",
          "name": "stdout",
          "text": [
            "CV_2:  0.09315085729461256\n"
          ]
        }
      ]
    },
    {
      "cell_type": "markdown",
      "source": [
        "# Conclusión:\n",
        "* Para el grupo 1 y 2 el CV del 0,11 y de 0,09 respectivamente indica que la dispersión de los datos en torno a la media es relativamente pequeña. Esto significa que los valores en el conjunto de datos están bastante concentrados alrededor de la media.\n"
      ],
      "metadata": {
        "id": "gLNCqHpMulM1"
      }
    },
    {
      "cell_type": "markdown",
      "source": [
        "## b) Estudiar la simetría y la curtosis del nivel de glucosa basal en los adultos ( grupo de control 2)"
      ],
      "metadata": {
        "id": "IkfLFhA5WBpJ"
      }
    },
    {
      "cell_type": "code",
      "source": [
        "import scipy.stats as sc\n",
        "\n",
        "simetria = sc.skew(df_2['Nivel glucosa basal'])\n",
        "curtosis = sc.kurtosis(df_2['Nivel glucosa basal'])\n",
        "\n",
        "print('simetria: ',simetria)\n",
        "print('curtosis',curtosis)"
      ],
      "metadata": {
        "id": "NEa_x-LZrQsg",
        "colab": {
          "base_uri": "https://localhost:8080/"
        },
        "outputId": "f01e809c-9347-4ce4-f7f7-0e53212e00d0"
      },
      "execution_count": null,
      "outputs": [
        {
          "output_type": "stream",
          "name": "stdout",
          "text": [
            "simetria:  -0.07600786308740512\n",
            "curtosis -1.0561848823209457\n"
          ]
        }
      ]
    },
    {
      "cell_type": "markdown",
      "source": [
        "## Conclusión:\n",
        "* El nivel de glucosa basal en el grupo 2 es aproximadamente simétrico, lo que sugiere que no hay una tendencia fuerte hacia niveles de glucosa muy altos o muy bajos en la mayoría de los individuos.\n",
        "* La curtosis al ser menor que '0' esto sugiere que los datos tienen menos valores extremos."
      ],
      "metadata": {
        "id": "dhkNM7W1bhHq"
      }
    },
    {
      "cell_type": "markdown",
      "source": [
        "## c) Indicar para cada una de las variables de estudio (nivel glucosa basal y nivel glucosa pasados 60 min) y en el grupo de control 1 el valor de los cuartiles y su significado y obtener el box- plot (diagrama de cajas) correspondiente. Estudiar la presencia de valores atípicos."
      ],
      "metadata": {
        "id": "cAHYMb9Zdgie"
      }
    },
    {
      "cell_type": "code",
      "source": [
        "import seaborn as sns\n",
        "\n",
        "# Crear un nuevo DataFrame con datos reestructurados\n",
        "data = {\n",
        "    'Niveles': pd.concat([df_1['Nivel glucosa basal'], df_1['Nivel glucosa 60 min']]),\n",
        "\n",
        "    'Grupo': ['Grupo 1_Nivel glucosa basal'] * len(df_1['Nivel glucosa basal']) +\n",
        "             ['Grupo 1_Nivel glucosa 60 min'] * len(df_1['Nivel glucosa 60 min'])\n",
        "}\n",
        "\n",
        "# Convertir a DataFrame\n",
        "df_plot = pd.DataFrame(data)\n",
        "\n",
        "# Crear el gráfico de box-plot\n",
        "plt.figure(figsize=(10, 6))\n",
        "sns.boxplot(x='Grupo', y='Niveles', data=df_plot, palette=\"Set2\")\n",
        "\n",
        "# Añadir título y etiquetas\n",
        "plt.title(\"Box-Plots de Niveles de Glucosa en Diferentes Grupos\")\n",
        "plt.ylabel(\"Nivel de Glucosa (mg/dL)\")\n",
        "\n",
        "# Mostrar el gráfico\n",
        "plt.show()"
      ],
      "metadata": {
        "colab": {
          "base_uri": "https://localhost:8080/",
          "height": 816
        },
        "id": "XGWvaVVtdJ3y",
        "outputId": "bd089cbd-4ec0-460d-8783-931d1a367622"
      },
      "execution_count": null,
      "outputs": [
        {
          "output_type": "stream",
          "name": "stderr",
          "text": [
            "<ipython-input-11-3f5a0d644c94>:16: FutureWarning: \n",
            "\n",
            "Passing `palette` without assigning `hue` is deprecated and will be removed in v0.14.0. Assign the `x` variable to `hue` and set `legend=False` for the same effect.\n",
            "\n",
            "  sns.boxplot(x='Grupo', y='Niveles', data=df_plot, palette=\"Set2\")\n",
            "/usr/local/lib/python3.10/dist-packages/seaborn/_base.py:949: FutureWarning: When grouping with a length-1 list-like, you will need to pass a length-1 tuple to get_group in a future version of pandas. Pass `(name,)` instead of `name` to silence this warning.\n",
            "  data_subset = grouped_data.get_group(pd_key)\n",
            "/usr/local/lib/python3.10/dist-packages/seaborn/categorical.py:640: FutureWarning: SeriesGroupBy.grouper is deprecated and will be removed in a future version of pandas.\n",
            "  positions = grouped.grouper.result_index.to_numpy(dtype=float)\n",
            "/usr/local/lib/python3.10/dist-packages/seaborn/_base.py:949: FutureWarning: When grouping with a length-1 list-like, you will need to pass a length-1 tuple to get_group in a future version of pandas. Pass `(name,)` instead of `name` to silence this warning.\n",
            "  data_subset = grouped_data.get_group(pd_key)\n",
            "/usr/local/lib/python3.10/dist-packages/seaborn/categorical.py:640: FutureWarning: SeriesGroupBy.grouper is deprecated and will be removed in a future version of pandas.\n",
            "  positions = grouped.grouper.result_index.to_numpy(dtype=float)\n"
          ]
        },
        {
          "output_type": "display_data",
          "data": {
            "text/plain": [
              "<Figure size 1000x600 with 1 Axes>"
            ],
            "image/png": "[encoded data removed]"
          },
          "metadata": {}
        }
      ]
    },
    {
      "cell_type": "markdown",
      "source": [
        "## Conclusión:\n",
        "* En el Grupo 1_Nivel glucosa despues de 60 min se encuentra un valor atipico\n"
      ],
      "metadata": {
        "id": "-aebrO6fiHFR"
      }
    },
    {
      "cell_type": "markdown",
      "source": [
        "## d) Estudiar la normalidad de los datos de cada uno de los grupos de control estudiados para el nivel de glucosa pasados 60 minutos."
      ],
      "metadata": {
        "id": "iMJZ_mLjjKPK"
      }
    },
    {
      "cell_type": "code",
      "source": [
        "import scipy.stats as stats\n",
        "\n",
        "datos_glucosa_grupo1 = df_1['Nivel glucosa 60 min']\n",
        "datos_glucosa_grupo2 = df_2['Nivel glucosa 60 min']\n",
        "\n",
        "# Crear el Q-Q plot para el Grupo 1\n",
        "plt.figure(figsize=(8, 6))\n",
        "stats.probplot(datos_glucosa_grupo1, dist=\"norm\", plot=plt)\n",
        "\n",
        "# Añadir título\n",
        "plt.title('Q-Q Plot para Nivel de Glucosa 60 min - Grupo 1')\n",
        "\n",
        "# Mostrar el gráfico\n",
        "plt.show()\n",
        "\n",
        "# Crear el Q-Q plot para el Grupo 2\n",
        "plt.figure(figsize=(8, 6))\n",
        "stats.probplot(datos_glucosa_grupo2, dist=\"norm\", plot=plt)\n",
        "\n",
        "# Añadir título\n",
        "plt.title('Q-Q Plot para Nivel de Glucosa 60 min - Grupo 2')\n",
        "\n",
        "# Mostrar el gráfico\n",
        "plt.show()"
      ],
      "metadata": {
        "colab": {
          "base_uri": "https://localhost:8080/",
          "height": 1000
        },
        "id": "to953Yjjeuhn",
        "outputId": "58d818e5-1d37-46af-ab17-65ce5f39b480"
      },
      "execution_count": null,
      "outputs": [
        {
          "output_type": "display_data",
          "data": {
            "text/plain": [
              "<Figure size 800x600 with 1 Axes>"
            ],
            "image/png": "[encoded data removed]"
          },
          "metadata": {}
        },
        {
          "output_type": "display_data",
          "data": {
            "text/plain": [
              "<Figure size 800x600 with 1 Axes>"
            ],
            "image/png": "[encoded data removed]"
          },
          "metadata": {}
        }
      ]
    },
    {
      "cell_type": "markdown",
      "source": [
        "## Alternativa: Prueba de normalidad con Shapiro-Wilk"
      ],
      "metadata": {
        "id": "LCjHOqNAlnO6"
      }
    },
    {
      "cell_type": "code",
      "source": [
        "\n",
        "stat, p = sc.shapiro(datos_glucosa_grupo1)\n",
        "print('Estadístico=%.3f, p-valor=%.3f' % (stat, p))\n",
        "\n",
        "# Interpretar el resultado\n",
        "alpha = 0.05\n",
        "if p > alpha:\n",
        "    print('Los datos parecen ser normales (no se rechaza H0)')\n",
        "else:\n",
        "    print('Los datos no parecen ser normales (se rechaza H0)')"
      ],
      "metadata": {
        "colab": {
          "base_uri": "https://localhost:8080/"
        },
        "id": "5xH1IZwVkOm_",
        "outputId": "b222a6f8-0c57-4c5e-e60c-9cd01513968d"
      },
      "execution_count": null,
      "outputs": [
        {
          "output_type": "stream",
          "name": "stdout",
          "text": [
            "Estadístico=0.974, p-valor=0.549\n",
            "Los datos parecen ser normales (no se rechaza H0)\n"
          ]
        }
      ]
    },
    {
      "cell_type": "code",
      "source": [
        "stat, p = sc.shapiro(datos_glucosa_grupo2)\n",
        "print('Estadístico=%.3f, p-valor=%.3f' % (stat, p))\n",
        "\n",
        "# Interpretar el resultado\n",
        "alpha = 0.05\n",
        "if p > alpha:\n",
        "    print('Los datos parecen ser normales (no se rechaza H0)')\n",
        "else:\n",
        "    print('Los datos no parecen ser normales (se rechaza H0)')"
      ],
      "metadata": {
        "colab": {
          "base_uri": "https://localhost:8080/"
        },
        "id": "2zoEu4qTlSB3",
        "outputId": "91305e43-4803-4bf4-e296-3273b5c94355"
      },
      "execution_count": null,
      "outputs": [
        {
          "output_type": "stream",
          "name": "stdout",
          "text": [
            "Estadístico=0.966, p-valor=0.436\n",
            "Los datos parecen ser normales (no se rechaza H0)\n"
          ]
        }
      ]
    },
    {
      "cell_type": "markdown",
      "source": [
        "## Conclusión:\n",
        "* Segun la prueba de normalidad de Shapiro-Wilk y el grafico Q-Q PLot los datos siguen una distribución normal\n",
        "\n",
        "\n"
      ],
      "metadata": {
        "id": "0EgksKRcluLF"
      }
    },
    {
      "cell_type": "markdown",
      "source": [
        "# Ejercicio 2\n",
        "Con los datos del fichero anterior, se quiere estudiar la relación\n",
        "existente entre el nivel basal y el nivel de glucosa que tienen los\n",
        "pacientes sanos jóvenes( grupo 1) una hora después de tomar el\n",
        "preparado de glucosa. Se pide:"
      ],
      "metadata": {
        "id": "8vLrPzX-qLXI"
      }
    },
    {
      "cell_type": "code",
      "source": [
        "\n",
        "datos_glucosa_basal = df_1['Nivel glucosa basal']\n",
        "datos_glucosa_60min = df_1['Nivel glucosa 60 min']\n",
        "\n",
        "# Crear el gráfico de dispersión\n",
        "plt.figure(figsize=(8, 6))\n",
        "sns.scatterplot(x=datos_glucosa_basal, y=datos_glucosa_60min)\n",
        "\n",
        "# Añadir línea de tendencia\n",
        "sns.regplot(x=datos_glucosa_basal, y=datos_glucosa_60min, scatter=False, color=\"red\")\n",
        "\n",
        "# Añadir título y etiquetas\n",
        "plt.title('Diagrama de Dispersión: Relación entre los Niveles de Glucosa')\n",
        "plt.xlabel('Nivel Glucosa basal')\n",
        "plt.ylabel('Nivel de Glucosa 60 min')\n",
        "\n",
        "# Mostrar el gráfico\n",
        "plt.show()"
      ],
      "metadata": {
        "id": "iShvDfLLmcex",
        "colab": {
          "base_uri": "https://localhost:8080/",
          "height": 565
        },
        "outputId": "e0668806-bee1-4fb9-870d-6120d94240cc"
      },
      "execution_count": null,
      "outputs": [
        {
          "output_type": "display_data",
          "data": {
            "text/plain": [
              "<Figure size 800x600 with 1 Axes>"
            ],
            "image/png": "[encoded data removed]"
          },
          "metadata": {}
        }
      ]
    },
    {
      "cell_type": "code",
      "source": [
        "# Calcular el coeficiente de correlación de Pearson\n",
        "coef_corr, p_valor = sc.pearsonr(datos_glucosa_basal, datos_glucosa_60min)\n",
        "print(f'Coeficiente de correlación de Pearson: {coef_corr:.3f}')\n",
        "print(f'P-valor: {p_valor:.8f}')\n",
        "\n",
        "# Interpretación del p-valor\n",
        "if p_valor < 0.05:\n",
        "    print('Existe una correlación significativa entre las variables.')\n",
        "else:\n",
        "    print('No existe una correlación significativa entre las variables.')"
      ],
      "metadata": {
        "colab": {
          "base_uri": "https://localhost:8080/"
        },
        "id": "7_QAHqnUvDB5",
        "outputId": "be5ef004-27a2-4cad-8106-7abc3a9c5c7d"
      },
      "execution_count": null,
      "outputs": [
        {
          "output_type": "stream",
          "name": "stdout",
          "text": [
            "Coeficiente de correlación de Pearson: 0.611\n",
            "P-valor: 0.00009827\n",
            "Existe una correlación significativa entre las variables.\n"
          ]
        }
      ]
    },
    {
      "cell_type": "markdown",
      "source": [
        "## Conclusión:\n",
        "* El coeficiente de correlacion es esta alejado de '0' por lo que existe relacion entre el nivel de glucosa basal inicial y el nivel de glucosa despues de 60 min\n"
      ],
      "metadata": {
        "id": "gYpOsFWExCQC"
      }
    },
    {
      "cell_type": "markdown",
      "source": [
        "## b) Obtener un modelo lineal que explica el nivel de glucosa en sangre a los 60 minutos en función del nivel basal del paciente y realizar la estimación para un paciente cuyo nivel basal es 83 mg/Dl"
      ],
      "metadata": {
        "id": "X1nH55Czx_1y"
      }
    },
    {
      "cell_type": "code",
      "source": [
        "from sklearn.linear_model import LinearRegression\n",
        "\n",
        "x = df_1['Nivel glucosa basal'].values.reshape(-1, 1) # Nivel basal como variable independiente\n",
        "y = df_1['Nivel glucosa 60 min'].values\n",
        "\n",
        "# Crear y ajustar el modelo de regresión lineal\n",
        "modelo = LinearRegression()\n",
        "modelo.fit(x, y)\n",
        "\n",
        "pendiente = modelo.coef_[0]\n",
        "intercepto = modelo.intercept_\n",
        "\n",
        "print(f'Modelo lineal: y = {pendiente:.3f} * x + {intercepto:.3f}')\n",
        "\n",
        "\n",
        "# Predecir el nivel de glucosa a los 60 minutos para un paciente con nivel basal de 83 mg/dL\n",
        "nivel_basal_nuevo = np.array([[83]])  # El valor basal es 83 mg/dL\n",
        "prediccion = modelo.predict(nivel_basal_nuevo)\n",
        "print(f'Predicción para nivel basal de 83 mg/dL: {prediccion[0]:.2f} mg/dL')\n",
        "\n",
        "# Graficar los datos y la línea de regresión\n",
        "plt.figure(figsize=(8, 6))\n",
        "sns.scatterplot(x=x.flatten(), y=y, label=\"Datos reales\")\n",
        "plt.plot(x, modelo.predict(x), color='red', label='Línea de regresión')\n",
        "\n",
        "# Añadir etiquetas y título\n",
        "plt.title('Regresión Lineal: Nivel de Glucosa a 60 min en función del Nivel Basal')\n",
        "plt.xlabel('Nivel de Glucosa Basal (mg/dL)')\n",
        "plt.ylabel('Nivel de Glucosa a 60 min (mg/dL)')\n",
        "plt.legend()\n",
        "plt.show()"
      ],
      "metadata": {
        "colab": {
          "base_uri": "https://localhost:8080/",
          "height": 601
        },
        "id": "pUkNcMeIvnO9",
        "outputId": "dbdd5b7d-0967-4190-d4ba-7f12353d9acb"
      },
      "execution_count": null,
      "outputs": [
        {
          "output_type": "stream",
          "name": "stdout",
          "text": [
            "Modelo lineal: y = 0.622 * x + 95.093\n",
            "Predicción para nivel basal de 83 mg/dL: 146.68 mg/dL\n"
          ]
        },
        {
          "output_type": "display_data",
          "data": {
            "text/plain": [
              "<Figure size 800x600 with 1 Axes>"
            ],
            "image/png": "[encoded data removed]"
          },
          "metadata": {}
        }
      ]
    },
    {
      "cell_type": "markdown",
      "source": [
        "## c) ¿Qué tanto por ciento del nivel de glucosa en sangre pasados 60minutos queda no queda explicado por el anterior modelo?"
      ],
      "metadata": {
        "id": "bW_shhUv5O-6"
      }
    },
    {
      "cell_type": "code",
      "source": [
        "r_squared = modelo.score(x, y)\n",
        "\n",
        "# Calcular el porcentaje no explicado\n",
        "porcentaje_no_explicado = (1 - r_squared) * 100\n",
        "\n",
        "print(f\"El R^2 del modelo es: {r_squared:.3f}\")\n",
        "print(f\"El porcentaje del nivel de glucosa a 60 minutos no explicado por el modelo es: {porcentaje_no_explicado:.2f}%\")"
      ],
      "metadata": {
        "colab": {
          "base_uri": "https://localhost:8080/"
        },
        "id": "5Qh6IpZBzd-3",
        "outputId": "e5d81b71-636b-45b0-a1b8-cf427150d231"
      },
      "execution_count": null,
      "outputs": [
        {
          "output_type": "stream",
          "name": "stdout",
          "text": [
            "El R^2 del modelo es: 0.373\n",
            "El porcentaje del nivel de glucosa a 60 minutos no explicado por el modelo es: 62.72%\n"
          ]
        }
      ]
    },
    {
      "cell_type": "markdown",
      "source": [
        "## d) Si aumentásemos el nivel basal de un paciente en 5 mg/Dl ¿Qué variación experimentaría su nivel de glucosa al cabo de 60 minutos?"
      ],
      "metadata": {
        "id": "IieI6U4A6acc"
      }
    },
    {
      "cell_type": "code",
      "source": [
        "# Calcular la variación en el nivel de glucosa a los 60 minutos\n",
        "aumento_basal = 5  # mg/dL\n",
        "variacion_glucosa = pendiente * aumento_basal\n",
        "\n",
        "print(f'La variación en el nivel de glucosa a 60 minutos al aumentar 5 mg/dL en el nivel basal es: {variacion_glucosa:.2f} mg/dL')"
      ],
      "metadata": {
        "colab": {
          "base_uri": "https://localhost:8080/"
        },
        "id": "kYBoSY8L5WfW",
        "outputId": "a367e816-df35-4a4e-f83c-b48522b1481e"
      },
      "execution_count": null,
      "outputs": [
        {
          "output_type": "stream",
          "name": "stdout",
          "text": [
            "La variación en el nivel de glucosa a 60 minutos al aumentar 5 mg/dL en el nivel basal es: 3.11 mg/dL\n"
          ]
        }
      ]
    },
    {
      "cell_type": "markdown",
      "source": [
        "# Ejercicio 3"
      ],
      "metadata": {
        "id": "G_WOVco67Ty2"
      }
    },
    {
      "cell_type": "markdown",
      "source": [
        "## a) Se quiere estudiar si se puede admitir que el nivel medio de glucosa en sangre en el momento de la ingestión en los jóvenes es 88 mg/Dl. Obtener el intervalo de confianza al 95% y al 99% para el nivel medio de glucosa en sangre de los jóvenes y posteriormente contesta a la cuestión planteada con los resultados obtenidos o con un contraste de hipótesis."
      ],
      "metadata": {
        "id": "mW8GGnxl7Yq1"
      }
    },
    {
      "cell_type": "code",
      "source": [
        "\n",
        "datos_glucosa = df_1['Nivel glucosa basal']  # Nivel de glucosa basal\n",
        "\n",
        "# Calcular la media, desviación estándar y tamaño de la muestra\n",
        "media_muestral = np.mean(datos_glucosa)\n",
        "desviacion_estandar = np.std(datos_glucosa, ddof=1)\n",
        "n = len(datos_glucosa)\n",
        "\n",
        "# Valores críticos para el intervalo de confianza al 95% y 99%\n",
        "z_95 = stats.norm.ppf(0.975)  # 95%\n",
        "z_99 = stats.norm.ppf(0.995)  # 99%\n",
        "\n",
        "# Intervalo de confianza al 95%\n",
        "ic_95_inf = media_muestral - z_95 * (desviacion_estandar / np.sqrt(n))\n",
        "ic_95_sup = media_muestral + z_95 * (desviacion_estandar / np.sqrt(n))\n",
        "\n",
        "# Intervalo de confianza al 99%\n",
        "ic_99_inf = media_muestral - z_99 * (desviacion_estandar / np.sqrt(n))\n",
        "ic_99_sup = media_muestral + z_99 * (desviacion_estandar / np.sqrt(n))\n",
        "\n",
        "print(f\"Intervalo de confianza al 95%: ({ic_95_inf:.2f}, {ic_95_sup:.2f}) mg/dL\")\n",
        "print(f\"Intervalo de confianza al 99%: ({ic_99_inf:.2f}, {ic_99_sup:.2f}) mg/dL\")\n",
        "\n",
        "# Realizar el contraste de hipótesis (t-test de una muestra)\n",
        "nivel_referencia = 88  # Nivel medio teórico\n",
        "\n",
        "t_stat, p_valor = stats.ttest_1samp(datos_glucosa, nivel_referencia)\n",
        "\n",
        "print(f\"T-stat: {t_stat:.3f}, P-valor: {p_valor:.3f}\")\n",
        "\n"
      ],
      "metadata": {
        "colab": {
          "base_uri": "https://localhost:8080/"
        },
        "id": "Agtj272w7V_o",
        "outputId": "4fc9f589-c908-44b4-b7c3-74ae1070d113"
      },
      "execution_count": null,
      "outputs": [
        {
          "output_type": "stream",
          "name": "stdout",
          "text": [
            "Intervalo de confianza al 95%: (81.92, 88.14) mg/dL\n",
            "Intervalo de confianza al 99%: (80.94, 89.11) mg/dL\n",
            "T-stat: -1.874, P-valor: 0.070\n"
          ]
        }
      ]
    },
    {
      "cell_type": "markdown",
      "source": [
        "## Conclusión:\n",
        "* Como no conocemos la desviación estándar de la población, usaremos un test t de Student para contrastar si la media muestral difiere significativamente de 88 mg/dL.\n",
        "* Se acepta la Hipotesis Nula H0 al 95% de confianza\n",
        "* Se acepta la Hipotesis Nula H0 al 99% de confianza"
      ],
      "metadata": {
        "id": "0wMdKT0veu5b"
      }
    },
    {
      "cell_type": "markdown",
      "source": [
        "## b) Obtener los intervalos de confianza al 95% para la diferencia de medias en el nivel basal de glucosa entre adultos y jovenes e interpreta los resultados. ¿Se puede concluir que el nivel basal de glucosa de los jóvenes y los adultos es el mismo con nivel de significación del 5%? .Suponiendo que se cumplen las condiciones iniciales teóricas para obtener los intervalos de confianza"
      ],
      "metadata": {
        "id": "3pLIBVaDZ6al"
      }
    },
    {
      "cell_type": "code",
      "source": [
        "\n",
        "\n",
        "# Datos de glucosa basal para jóvenes y adultos\n",
        "glucosa_jovenes = df_1['Nivel glucosa basal']\n",
        "glucosa_adultos = df_2['Nivel glucosa basal']\n",
        "\n",
        "# Calcular medias, desviaciones estándar y tamaños de muestra\n",
        "media_jovenes = np.mean(glucosa_jovenes)\n",
        "media_adultos = np.mean(glucosa_adultos)\n",
        "\n",
        "std_jovenes = np.std(glucosa_jovenes, ddof=1)\n",
        "std_adultos = np.std(glucosa_adultos, ddof=1)\n",
        "\n",
        "n_jovenes = len(glucosa_jovenes)\n",
        "n_adultos = len(glucosa_adultos)\n",
        "\n",
        "# Diferencia de medias\n",
        "diferencia_medias = media_jovenes - media_adultos\n",
        "\n",
        "# Error estándar de la diferencia de medias\n",
        "error_estandar = np.sqrt((std_jovenes**2 / n_jovenes) + (std_adultos**2 / n_adultos))\n",
        "\n",
        "# Valor crítico Z para un intervalo de confianza al 95% (bilateral)\n",
        "z_95 = stats.norm.ppf(0.975)\n",
        "\n",
        "# Intervalo de confianza al 95%\n",
        "ic_95_inf = diferencia_medias - z_95 * error_estandar\n",
        "ic_95_sup = diferencia_medias + z_95 * error_estandar\n",
        "\n",
        "print(f\"Intervalo de confianza al 95% para la diferencia de medias: ({ic_95_inf:.2f}, {ic_95_sup:.2f}) mg/dL\")\n",
        "\n",
        "# Contraste de hipótesis para la diferencia de medias (t-test para dos muestras independientes)\n",
        "t_stat, p_valor = stats.ttest_ind(glucosa_jovenes, glucosa_adultos)\n",
        "\n",
        "print(f\"T-stat: {t_stat:.3f}, P-valor: {p_valor:.3f}\")\n",
        "\n",
        "# Nivel de significancia\n",
        "alpha = 0.05\n",
        "\n",
        "# Decisión basada en el p-valor\n",
        "if p_valor < alpha:\n",
        "    print(\"Rechazamos la hipótesis nula\")\n",
        "else:\n",
        "    print(\"No podemos rechazar la hipótesis nula\")"
      ],
      "metadata": {
        "colab": {
          "base_uri": "https://localhost:8080/"
        },
        "id": "zLyPMfzRe-CP",
        "outputId": "75175d2d-667e-4fc7-a8ba-d2078c3ad426"
      },
      "execution_count": null,
      "outputs": [
        {
          "output_type": "stream",
          "name": "stdout",
          "text": [
            "Intervalo de confianza al 95% para la diferencia de medias: (-10.14, -1.47) mg/dL\n",
            "T-stat: -2.601, P-valor: 0.012\n",
            "Rechazamos la hipótesis nula\n"
          ]
        }
      ]
    },
    {
      "cell_type": "markdown",
      "source": [
        "## Conclusion:\n",
        "* Rechazamos H0 ya que el p-valor es menor que 0,05, esto quiere decir que hay diferencia entre los niveles basales de glucosa entre jovenes y adultos"
      ],
      "metadata": {
        "id": "meY4Y9LLa989"
      }
    },
    {
      "cell_type": "markdown",
      "source": [
        "## c) Se quiere estudiar la proporción de la población con un nivel basal de glucosa superior a 95 mg/Dl (prediabetes). A partir de la muestra del fichero (tomando todos los datos) obtener un intervalo de confianza al 98% y contrastar la hipótesis que la proporción de la población con glucosa superior a 95 mg/Dl es 0,15 con nivel de significación del 5%."
      ],
      "metadata": {
        "id": "x5hdm3N1a2VE"
      }
    },
    {
      "cell_type": "code",
      "source": [
        "# Datos de glucosa basal para toda la población\n",
        "glucosa_poblacion = df['Nivel glucosa basal']  # Unimos los datos de jóvenes y adultos\n",
        "\n",
        "# Calcular la proporción muestral (glucosa > 95 mg/dL)\n",
        "glucosa_prediabetes = glucosa_poblacion[glucosa_poblacion > 95]\n",
        "n_total = len(glucosa_poblacion)  # Tamaño total de la muestra\n",
        "p_muestral = len(glucosa_prediabetes) / n_total  # Proporción muestral\n",
        "\n",
        "# Nivel de confianza del 98%\n",
        "z_98 = stats.norm.ppf(0.99)\n",
        "\n",
        "# Error estándar de la proporción\n",
        "error_estandar = np.sqrt(p_muestral * (1 - p_muestral) / n_total)\n",
        "\n",
        "# Intervalo de confianza al 98%\n",
        "ic_98_inf = p_muestral - z_98 * error_estandar\n",
        "ic_98_sup = p_muestral + z_98 * error_estandar\n",
        "\n",
        "print(f\"Intervalo de confianza al 98% para la proporción: ({ic_98_inf:.3f}, {ic_98_sup:.3f})\")\n",
        "\n",
        "# Contraste de hipótesis para la proporción (población con glucosa > 95 mg/dL)\n",
        "p_0 = 0.15  # Proporción teórica\n",
        "z_stat = (p_muestral - p_0) / np.sqrt(p_0 * (1 - p_0) / n_total)\n",
        "\n",
        "# Calcular el p-valor asociado al estadístico\n",
        "p_valor = 2 * (1 - stats.norm.cdf(np.abs(z_stat)))  # Bilateral\n",
        "\n",
        "print(f\"P-valor: {p_valor:.3f}\")\n",
        "\n",
        "# Nivel de significancia\n",
        "alpha = 0.05\n",
        "\n",
        "# Decisión basada en el p-valor\n",
        "if p_valor < alpha:\n",
        "    print(f\"Rechazamos la hipótesis nula.\")\n",
        "else:\n",
        "    print(f\"No rechazamos la hipótesis nula\")"
      ],
      "metadata": {
        "colab": {
          "base_uri": "https://localhost:8080/"
        },
        "id": "Q1QTYLzLcBee",
        "outputId": "7c757207-5d6d-40d4-9c63-54731d807cac"
      },
      "execution_count": null,
      "outputs": [
        {
          "output_type": "stream",
          "name": "stdout",
          "text": [
            "Intervalo de confianza al 98% para la proporción: (0.135, 0.388)\n",
            "P-valor: 0.012\n",
            "Rechazamos la hipótesis nula.\n"
          ]
        }
      ]
    },
    {
      "cell_type": "markdown",
      "source": [
        "## Conclusion:\n",
        "* Se rechaza H0 ya que la proporrcion de la población con glucosa superior a 95 mg/dL es significativamente diferente de 0.15."
      ],
      "metadata": {
        "id": "ZHFIuYXdigBQ"
      }
    },
    {
      "cell_type": "markdown",
      "source": [],
      "metadata": {
        "id": "7dRswgSRazV_"
      }
    }
  ]
}